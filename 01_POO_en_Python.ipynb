{
  "cells": [
    {
      "cell_type": "markdown",
      "metadata": {
        "id": "view-in-github",
        "colab_type": "text"
      },
      "source": [
        "<a href=\"https://colab.research.google.com/github/erick1819/Prueba_phyton/blob/main/01_POO_en_Python.ipynb\" target=\"_parent\"><img src=\"https://colab.research.google.com/assets/colab-badge.svg\" alt=\"Open In Colab\"/></a>"
      ]
    },
    {
      "cell_type": "markdown",
      "metadata": {
        "id": "BE_iva7gz7xc"
      },
      "source": [
        "# Python para Ingeniería\n",
        "## Programación Orientada a Objetos en Python \n",
        "Profesor: **Juan Luis Herencia Guerra** <br>\n",
        "Email: **jherenciag@uni.edu.pe**"
      ]
    },
    {
      "cell_type": "markdown",
      "metadata": {
        "id": "izm0FB5Az7xe"
      },
      "source": [
        "Es posible representar objetos de la vida real en programación. Esto extiende muchos paradigmas a la hora de programar pensando únicamente en funciones.\n",
        "\n",
        "¡En el mundo real y en python todo lo que existe puede verse como un objeto! Cuando decimos que son objetos decimos que son una colección de atributos o de estados y de comportamientos (funciones). ¡Un objeto en el mundo real puede comunicarse con otros objetos y en python tambien!\n",
        "\n",
        "Las **clases** son una plantilla de atributos y métodos y nos van a permitir definir el comportamiento de los objetos a través de variables que representan estados y métodos que representan comportamientos. Un ejemplo de clase puede ser por ejemplo Aeroplano. \n",
        "\n",
        "Los **Objetos** son instancias de una clase. El Aeroplano con identificación HK-1274 que es un Boeing 787 es un objeto de clase (de tipo) Aeroplano.\n",
        "\n",
        "Para poder modelar objetos del mundo se requiere utilizar **abstracción** mediante la cual se esconden detalles y se muestran solo los que necesitan otras entidades como objetos, clientes u otras aplicaciones para interactuar.\n",
        "\n",
        "### Definición de clases\n",
        "\n",
        "Es la creación de la clase"
      ]
    },
    {
      "cell_type": "code",
      "execution_count": null,
      "metadata": {
        "id": "UlB8FUp9z7xg"
      },
      "outputs": [],
      "source": [
        "class Libro:\n",
        "  pass"
      ]
    },
    {
      "cell_type": "code",
      "execution_count": null,
      "metadata": {
        "colab": {
          "base_uri": "https://localhost:8080/"
        },
        "id": "vw0BLOKcz7xh",
        "outputId": "2a08e587-1f8e-4c05-e0d4-77524c7f7b31"
      },
      "outputs": [
        {
          "output_type": "execute_result",
          "data": {
            "text/plain": [
              "<__main__.Libro at 0x7faa6c4c1b10>"
            ]
          },
          "metadata": {},
          "execution_count": 2
        }
      ],
      "source": [
        "calculo1 = Libro()\n",
        "calculo1"
      ]
    },
    {
      "cell_type": "code",
      "source": [
        "quimica = Libro()\n",
        "quimica"
      ],
      "metadata": {
        "colab": {
          "base_uri": "https://localhost:8080/"
        },
        "id": "jomtFr5Q0qA-",
        "outputId": "b3ee7c79-a3ea-4c9e-b302-3999570f00b8"
      },
      "execution_count": null,
      "outputs": [
        {
          "output_type": "execute_result",
          "data": {
            "text/plain": [
              "<__main__.Libro at 0x7faa6c4cf6d0>"
            ]
          },
          "metadata": {},
          "execution_count": 3
        }
      ]
    },
    {
      "cell_type": "markdown",
      "metadata": {
        "id": "pIg-s_NHz7xi"
      },
      "source": [
        "### Encapsulamiento:\n",
        "\n",
        "- Se esconden partes de los datos del resto de la aplicación.\n",
        "- Se limita la habilidad de otras partes del código de acceder estos datos.\n",
        "- Para crear una clase se considera la siguiente sintaxis\n",
        "```class Airplane(<nombre de clase padre si hay>):\n",
        "        definición de método 1\n",
        "        definición de método 2\n",
        "        .\n",
        "        .\n",
        "        .\n",
        "        definición de método n\n",
        "```"
      ]
    },
    {
      "cell_type": "markdown",
      "metadata": {
        "id": "vqPTBqH_z7xi"
      },
      "source": [
        "#### Atributos"
      ]
    },
    {
      "cell_type": "code",
      "execution_count": null,
      "metadata": {
        "id": "VvIiph41z7xk"
      },
      "outputs": [],
      "source": [
        "class Libro:\n",
        "  __codigo = 0\n",
        "  titulo = ''\n",
        "  autor = ''\n",
        "  genero = ''"
      ]
    },
    {
      "cell_type": "code",
      "source": [
        "calculo1 = Libro()\n",
        "calculo1.titulo = 'Calculo de una variable'\n",
        "calculo1.autor = 'Anonimo'"
      ],
      "metadata": {
        "id": "OI5vGjAb1NFz"
      },
      "execution_count": null,
      "outputs": []
    },
    {
      "cell_type": "code",
      "source": [
        "quimica = Libro()\n",
        "quimica.titulo = 'Química General'\n",
        "quimica.autor = 'Ediciones UNI'\n",
        "quimica.genero = 'Universitario'"
      ],
      "metadata": {
        "id": "ZNrrXk731vOk"
      },
      "execution_count": null,
      "outputs": []
    },
    {
      "cell_type": "code",
      "source": [
        "calculo1.autor"
      ],
      "metadata": {
        "colab": {
          "base_uri": "https://localhost:8080/",
          "height": 35
        },
        "id": "w7OBKbgm1-BB",
        "outputId": "ce951a4b-6aa9-4822-b403-6b2e02c374e5"
      },
      "execution_count": null,
      "outputs": [
        {
          "output_type": "execute_result",
          "data": {
            "text/plain": [
              "'Anonimo'"
            ],
            "application/vnd.google.colaboratory.intrinsic+json": {
              "type": "string"
            }
          },
          "metadata": {},
          "execution_count": 9
        }
      ]
    },
    {
      "cell_type": "code",
      "source": [
        "quimica.titulo"
      ],
      "metadata": {
        "colab": {
          "base_uri": "https://localhost:8080/",
          "height": 35
        },
        "id": "6tARp9df2F4t",
        "outputId": "9b303897-dda9-491a-9ba0-b109cb425c5f"
      },
      "execution_count": null,
      "outputs": [
        {
          "output_type": "execute_result",
          "data": {
            "text/plain": [
              "'Química General'"
            ],
            "application/vnd.google.colaboratory.intrinsic+json": {
              "type": "string"
            }
          },
          "metadata": {},
          "execution_count": 11
        }
      ]
    },
    {
      "cell_type": "code",
      "source": [
        "quimica.titulo = 'Cien años de Soledad'"
      ],
      "metadata": {
        "id": "xyGGrn2P2U6K"
      },
      "execution_count": null,
      "outputs": []
    },
    {
      "cell_type": "code",
      "source": [
        "quimica.titulo"
      ],
      "metadata": {
        "colab": {
          "base_uri": "https://localhost:8080/",
          "height": 35
        },
        "id": "QIYx2AGD2bCg",
        "outputId": "a37eb698-1944-472b-d69b-e83960830802"
      },
      "execution_count": null,
      "outputs": [
        {
          "output_type": "execute_result",
          "data": {
            "text/plain": [
              "'Cien años de Soledad'"
            ],
            "application/vnd.google.colaboratory.intrinsic+json": {
              "type": "string"
            }
          },
          "metadata": {},
          "execution_count": 13
        }
      ]
    },
    {
      "cell_type": "code",
      "source": [
        "quimica.__codigo = 4567\n",
        "quimica.__codigo"
      ],
      "metadata": {
        "colab": {
          "base_uri": "https://localhost:8080/"
        },
        "id": "EB0kEFW_2l5w",
        "outputId": "e524d340-f13f-42b3-9f4e-2e3ae7df176b"
      },
      "execution_count": null,
      "outputs": [
        {
          "output_type": "execute_result",
          "data": {
            "text/plain": [
              "4567"
            ]
          },
          "metadata": {},
          "execution_count": 19
        }
      ]
    },
    {
      "cell_type": "code",
      "source": [
        "!python --version"
      ],
      "metadata": {
        "colab": {
          "base_uri": "https://localhost:8080/"
        },
        "id": "eF3qMzAn3JG0",
        "outputId": "32a6dc5a-ccce-4e69-84a6-140e9030a1aa"
      },
      "execution_count": null,
      "outputs": [
        {
          "output_type": "stream",
          "name": "stdout",
          "text": [
            "Python 3.7.13\n"
          ]
        }
      ]
    },
    {
      "cell_type": "markdown",
      "metadata": {
        "id": "ReEp4Qtkz7xk"
      },
      "source": [
        "#### Constructor"
      ]
    },
    {
      "cell_type": "code",
      "source": [
        "class Libro:\n",
        "  def __init__(self, cod, tit, aut, gen):\n",
        "    self.__codigo = cod\n",
        "    self.titulo = tit\n",
        "    self.autor = aut\n",
        "    self.genero = gen\n",
        "\n",
        "  def getCodigo(self):  \n",
        "    return self.__codigo\n",
        "\n",
        "  def mostrar(self):\n",
        "    print('Codigo   : ', self.getCodigo())\n",
        "    print('Autor    : ', self.autor)\n",
        "    print('Titulo   : ', self.titulo)\n",
        "    print('Genero   : ', self.genero)\n",
        "\n",
        "  def __str__(self):\n",
        "    cadena = 'Codigo   : ' + str(self.getCodigo()) + '\\nAutor    : ' + self.autor + '\\nTitulo   : ' + self.titulo + '\\nGenero   : ' + self.genero\n",
        "    return cadena\n",
        "\n"
      ],
      "metadata": {
        "id": "MNyTnPtF2TcI"
      },
      "execution_count": null,
      "outputs": []
    },
    {
      "cell_type": "code",
      "source": [
        "# Crear el objeto calculo1\n",
        "calculo1 = Libro(1234, 'Calculo de una variable', 'Ediciones UNI', 'Universitario')\n",
        "calculo1.titulo"
      ],
      "metadata": {
        "colab": {
          "base_uri": "https://localhost:8080/",
          "height": 35
        },
        "id": "hy2TIbgy2ET8",
        "outputId": "63d7a02b-7e28-4a26-d207-e0c11165d2dc"
      },
      "execution_count": null,
      "outputs": [
        {
          "output_type": "execute_result",
          "data": {
            "text/plain": [
              "'Calculo de una variable'"
            ],
            "application/vnd.google.colaboratory.intrinsic+json": {
              "type": "string"
            }
          },
          "metadata": {},
          "execution_count": 46
        }
      ]
    },
    {
      "cell_type": "code",
      "execution_count": null,
      "metadata": {
        "colab": {
          "base_uri": "https://localhost:8080/",
          "height": 35
        },
        "id": "6qu10XG5z7xl",
        "outputId": "e24e9832-cbe5-48ce-e1a4-2ba9e62eea52"
      },
      "outputs": [
        {
          "output_type": "execute_result",
          "data": {
            "text/plain": [
              "'Quimica General'"
            ],
            "application/vnd.google.colaboratory.intrinsic+json": {
              "type": "string"
            }
          },
          "metadata": {},
          "execution_count": 47
        }
      ],
      "source": [
        "# Crear el objeto quimica\n",
        "quimica = Libro(9874, 'Quimica General', 'Pearson', 'Universitario')\n",
        "quimica.titulo"
      ]
    },
    {
      "cell_type": "code",
      "source": [
        "print('Codigo   : ', calculo1.getCodigo())\n",
        "print('Autor    : ', calculo1.autor)\n",
        "print('Titulo   : ', calculo1.titulo)\n",
        "print('Genero   : ', calculo1.genero)"
      ],
      "metadata": {
        "colab": {
          "base_uri": "https://localhost:8080/"
        },
        "id": "pcnBWSpX7iHc",
        "outputId": "11077741-3ee0-4a69-ec0a-f077e2a720b4"
      },
      "execution_count": null,
      "outputs": [
        {
          "output_type": "stream",
          "name": "stdout",
          "text": [
            "Codigo   :  1234\n",
            "Autor    :  Ediciones UNI\n",
            "Titulo   :  Calculo de una variable\n",
            "Genero   :  Universitario\n"
          ]
        }
      ]
    },
    {
      "cell_type": "code",
      "source": [
        "calculo1.mostrar()"
      ],
      "metadata": {
        "colab": {
          "base_uri": "https://localhost:8080/"
        },
        "id": "40c7-ePD8K_M",
        "outputId": "13801671-a20c-4cbc-a567-4a6bace31c0f"
      },
      "execution_count": null,
      "outputs": [
        {
          "output_type": "stream",
          "name": "stdout",
          "text": [
            "Codigo   :  1234\n",
            "Autor    :  Ediciones UNI\n",
            "Titulo   :  Calculo de una variable\n",
            "Genero   :  Universitario\n"
          ]
        }
      ]
    },
    {
      "cell_type": "code",
      "source": [
        "quimica.mostrar()"
      ],
      "metadata": {
        "colab": {
          "base_uri": "https://localhost:8080/"
        },
        "id": "ifUXCT9W8sod",
        "outputId": "6ed35aae-70f4-444a-c803-66ed4a235c8c"
      },
      "execution_count": null,
      "outputs": [
        {
          "output_type": "stream",
          "name": "stdout",
          "text": [
            "Codigo   :  9874\n",
            "Autor    :  Pearson\n",
            "Titulo   :  Quimica General\n",
            "Genero   :  Universitario\n"
          ]
        }
      ]
    },
    {
      "cell_type": "code",
      "source": [
        "print(quimica)"
      ],
      "metadata": {
        "colab": {
          "base_uri": "https://localhost:8080/"
        },
        "id": "2sTsZCPT-CzB",
        "outputId": "d084c82c-95a0-4c17-c1c2-702754257c4a"
      },
      "execution_count": null,
      "outputs": [
        {
          "output_type": "stream",
          "name": "stdout",
          "text": [
            "Codigo   : 9874\n",
            "Autor    : Pearson\n",
            "Titulo   : Quimica General\n",
            "Genero   : Universitario\n"
          ]
        }
      ]
    },
    {
      "cell_type": "code",
      "source": [
        "print(calculo1)"
      ],
      "metadata": {
        "colab": {
          "base_uri": "https://localhost:8080/"
        },
        "id": "H3Hh7UT9-qCs",
        "outputId": "fcba919d-2da9-4d05-8798-3dcdac6f2200"
      },
      "execution_count": null,
      "outputs": [
        {
          "output_type": "stream",
          "name": "stdout",
          "text": [
            "Codigo   : 1234\n",
            "Autor    : Ediciones UNI\n",
            "Titulo   : Calculo de una variable\n",
            "Genero   : Universitario\n"
          ]
        }
      ]
    },
    {
      "cell_type": "markdown",
      "metadata": {
        "id": "i7Pm0FiTz7xm"
      },
      "source": [
        "#### Métodos"
      ]
    },
    {
      "cell_type": "code",
      "execution_count": null,
      "metadata": {
        "colab": {
          "base_uri": "https://localhost:8080/"
        },
        "id": "CSH0A-Grz7xm",
        "outputId": "aa3becd7-9776-4f9a-cde3-a4acc4ae8065"
      },
      "outputs": [
        {
          "output_type": "execute_result",
          "data": {
            "text/plain": [
              "9874"
            ]
          },
          "metadata": {},
          "execution_count": 30
        }
      ],
      "source": [
        "quimica.getCodigo()"
      ]
    },
    {
      "cell_type": "code",
      "execution_count": null,
      "metadata": {
        "id": "MZ7CtgfWz7xm"
      },
      "outputs": [],
      "source": []
    }
  ],
  "metadata": {
    "kernelspec": {
      "display_name": "Python 3 (ipykernel)",
      "language": "python",
      "name": "python3"
    },
    "language_info": {
      "codemirror_mode": {
        "name": "ipython",
        "version": 3
      },
      "file_extension": ".py",
      "mimetype": "text/x-python",
      "name": "python",
      "nbconvert_exporter": "python",
      "pygments_lexer": "ipython3",
      "version": "3.9.7"
    },
    "colab": {
      "provenance": [],
      "collapsed_sections": [],
      "include_colab_link": true
    }
  },
  "nbformat": 4,
  "nbformat_minor": 0
}